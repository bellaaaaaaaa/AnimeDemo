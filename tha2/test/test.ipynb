{
 "cells": [
  {
   "cell_type": "code",
   "execution_count": null,
   "metadata": {},
   "outputs": [],
   "source": [
    "import unittest\n",
    "from tha2.poser.poser import PoseParameters as pose_parameters\n",
    "\n",
    "\n",
    "class TestFunc(unittest.TestCase):\n",
    "\n",
    "    def test_eyebrow_index_correct(self):\n",
    "\n",
    "        eyebrow_left_index = pose_parameters.get_parameter_index(\n",
    "            \"eyebrow_troubled_left\")\n",
    "        eyebrow_right_index = pose_parameters.get_parameter_index(\n",
    "            \"eyebrow_troubled_right\")\n",
    "\n",
    "        expected_eyebrow_left_index = 0\n",
    "        expected_eyebrow_right_index = 1\n",
    "\n",
    "        self.assertTrue(eyebrow_left_index == expected_eyebrow_left_index)\n",
    "        self.assertTrue(eyebrow_right_index == expected_eyebrow_right_index)\n",
    "\n",
    "        eyebrow_left_index = pose_parameters.get_parameter_index(\n",
    "            \"eyebrow_angry_left\")\n",
    "        eyebrow_right_index = pose_parameters.get_parameter_index(\n",
    "            \"eyebrow_angry_right\")\n",
    "\n",
    "        expected_eyebrow_left_index = 2\n",
    "        expected_eyebrow_right_index = 3\n",
    "\n",
    "        self.assertTrue(eyebrow_left_index == expected_eyebrow_left_index)\n",
    "        self.assertTrue(eyebrow_right_index == expected_eyebrow_right_index)\n",
    "\n",
    "        eyebrow_left_index = pose_parameters.get_parameter_index(\n",
    "            \"eyebrow_lowered_left\")\n",
    "        eyebrow_right_index = pose_parameters.get_parameter_index(\n",
    "            \"eyebrow_lowered_right\")\n",
    "\n",
    "        expected_eyebrow_left_index = 4\n",
    "        expected_eyebrow_right_index = 5\n",
    "\n",
    "        self.assertTrue(eyebrow_left_index == expected_eyebrow_left_index)\n",
    "        self.assertTrue(eyebrow_right_index == expected_eyebrow_right_index)\n"
   ]
  },
  {
   "cell_type": "code",
   "execution_count": null,
   "metadata": {},
   "outputs": [],
   "source": [
    "import unittest\n",
    "from tha2.poser.poser import PoseParameters as pose_parameters\n",
    "\n",
    "\n",
    "class TestFunc(unittest.TestCase):\n",
    "\n",
    "    def test_arity(self):\n",
    "\n",
    "        pass"
   ]
  }
 ],
 "metadata": {
  "language_info": {
   "name": "python"
  },
  "orig_nbformat": 4
 },
 "nbformat": 4,
 "nbformat_minor": 2
}
